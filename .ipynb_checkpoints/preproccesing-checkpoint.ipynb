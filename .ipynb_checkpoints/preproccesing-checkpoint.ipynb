{
 "cells": [
  {
   "cell_type": "code",
   "execution_count": 357,
   "metadata": {},
   "outputs": [],
   "source": [
    "import pandas as pd\n",
    "from sklearn.decomposition import PCA\n",
    "from sklearn.cluster import KMeans\n",
    "from sklearn.metrics import silhouette_score\n",
    "from sklearn.manifold import MDS\n",
    "from sklearn.preprocessing import StandardScaler\n",
    "import matplotlib.pyplot as plt"
   ]
  },
  {
   "cell_type": "code",
   "execution_count": 302,
   "metadata": {},
   "outputs": [],
   "source": [
    "# %matplotlib inline\n",
    "%matplotlib qt5\n",
    "plt.rcParams['figure.dpi'] = 120"
   ]
  },
  {
   "cell_type": "markdown",
   "metadata": {},
   "source": [
    "# Data preproccesing"
   ]
  },
  {
   "cell_type": "code",
   "execution_count": 231,
   "metadata": {},
   "outputs": [
    {
     "data": {
      "text/html": [
       "<div>\n",
       "<style scoped>\n",
       "    .dataframe tbody tr th:only-of-type {\n",
       "        vertical-align: middle;\n",
       "    }\n",
       "\n",
       "    .dataframe tbody tr th {\n",
       "        vertical-align: top;\n",
       "    }\n",
       "\n",
       "    .dataframe thead th {\n",
       "        text-align: right;\n",
       "    }\n",
       "</style>\n",
       "<table border=\"1\" class=\"dataframe\">\n",
       "  <thead>\n",
       "    <tr style=\"text-align: right;\">\n",
       "      <th></th>\n",
       "      <th>month</th>\n",
       "      <th>day</th>\n",
       "      <th>order</th>\n",
       "      <th>country</th>\n",
       "      <th>session ID</th>\n",
       "      <th>page 1 (main category)</th>\n",
       "      <th>colour</th>\n",
       "      <th>location</th>\n",
       "      <th>model photography</th>\n",
       "      <th>price</th>\n",
       "      <th>price 2</th>\n",
       "      <th>page</th>\n",
       "    </tr>\n",
       "  </thead>\n",
       "  <tbody>\n",
       "    <tr>\n",
       "      <th>0</th>\n",
       "      <td>4</td>\n",
       "      <td>1</td>\n",
       "      <td>1</td>\n",
       "      <td>29</td>\n",
       "      <td>1</td>\n",
       "      <td>1</td>\n",
       "      <td>1</td>\n",
       "      <td>5</td>\n",
       "      <td>1</td>\n",
       "      <td>28</td>\n",
       "      <td>2</td>\n",
       "      <td>1</td>\n",
       "    </tr>\n",
       "    <tr>\n",
       "      <th>1</th>\n",
       "      <td>4</td>\n",
       "      <td>1</td>\n",
       "      <td>2</td>\n",
       "      <td>29</td>\n",
       "      <td>1</td>\n",
       "      <td>1</td>\n",
       "      <td>1</td>\n",
       "      <td>6</td>\n",
       "      <td>1</td>\n",
       "      <td>33</td>\n",
       "      <td>2</td>\n",
       "      <td>1</td>\n",
       "    </tr>\n",
       "    <tr>\n",
       "      <th>2</th>\n",
       "      <td>4</td>\n",
       "      <td>1</td>\n",
       "      <td>3</td>\n",
       "      <td>29</td>\n",
       "      <td>1</td>\n",
       "      <td>2</td>\n",
       "      <td>10</td>\n",
       "      <td>2</td>\n",
       "      <td>1</td>\n",
       "      <td>52</td>\n",
       "      <td>1</td>\n",
       "      <td>1</td>\n",
       "    </tr>\n",
       "    <tr>\n",
       "      <th>3</th>\n",
       "      <td>4</td>\n",
       "      <td>1</td>\n",
       "      <td>4</td>\n",
       "      <td>29</td>\n",
       "      <td>1</td>\n",
       "      <td>2</td>\n",
       "      <td>6</td>\n",
       "      <td>6</td>\n",
       "      <td>2</td>\n",
       "      <td>38</td>\n",
       "      <td>2</td>\n",
       "      <td>1</td>\n",
       "    </tr>\n",
       "    <tr>\n",
       "      <th>4</th>\n",
       "      <td>4</td>\n",
       "      <td>1</td>\n",
       "      <td>5</td>\n",
       "      <td>29</td>\n",
       "      <td>1</td>\n",
       "      <td>2</td>\n",
       "      <td>4</td>\n",
       "      <td>3</td>\n",
       "      <td>2</td>\n",
       "      <td>52</td>\n",
       "      <td>1</td>\n",
       "      <td>1</td>\n",
       "    </tr>\n",
       "    <tr>\n",
       "      <th>...</th>\n",
       "      <td>...</td>\n",
       "      <td>...</td>\n",
       "      <td>...</td>\n",
       "      <td>...</td>\n",
       "      <td>...</td>\n",
       "      <td>...</td>\n",
       "      <td>...</td>\n",
       "      <td>...</td>\n",
       "      <td>...</td>\n",
       "      <td>...</td>\n",
       "      <td>...</td>\n",
       "      <td>...</td>\n",
       "    </tr>\n",
       "    <tr>\n",
       "      <th>165469</th>\n",
       "      <td>8</td>\n",
       "      <td>13</td>\n",
       "      <td>1</td>\n",
       "      <td>29</td>\n",
       "      <td>24024</td>\n",
       "      <td>2</td>\n",
       "      <td>2</td>\n",
       "      <td>4</td>\n",
       "      <td>1</td>\n",
       "      <td>67</td>\n",
       "      <td>1</td>\n",
       "      <td>1</td>\n",
       "    </tr>\n",
       "    <tr>\n",
       "      <th>165470</th>\n",
       "      <td>8</td>\n",
       "      <td>13</td>\n",
       "      <td>1</td>\n",
       "      <td>9</td>\n",
       "      <td>24025</td>\n",
       "      <td>1</td>\n",
       "      <td>3</td>\n",
       "      <td>4</td>\n",
       "      <td>1</td>\n",
       "      <td>62</td>\n",
       "      <td>1</td>\n",
       "      <td>1</td>\n",
       "    </tr>\n",
       "    <tr>\n",
       "      <th>165471</th>\n",
       "      <td>8</td>\n",
       "      <td>13</td>\n",
       "      <td>1</td>\n",
       "      <td>34</td>\n",
       "      <td>24026</td>\n",
       "      <td>1</td>\n",
       "      <td>3</td>\n",
       "      <td>1</td>\n",
       "      <td>1</td>\n",
       "      <td>43</td>\n",
       "      <td>2</td>\n",
       "      <td>1</td>\n",
       "    </tr>\n",
       "    <tr>\n",
       "      <th>165472</th>\n",
       "      <td>8</td>\n",
       "      <td>13</td>\n",
       "      <td>2</td>\n",
       "      <td>34</td>\n",
       "      <td>24026</td>\n",
       "      <td>3</td>\n",
       "      <td>12</td>\n",
       "      <td>1</td>\n",
       "      <td>1</td>\n",
       "      <td>43</td>\n",
       "      <td>1</td>\n",
       "      <td>1</td>\n",
       "    </tr>\n",
       "    <tr>\n",
       "      <th>165473</th>\n",
       "      <td>8</td>\n",
       "      <td>13</td>\n",
       "      <td>3</td>\n",
       "      <td>34</td>\n",
       "      <td>24026</td>\n",
       "      <td>2</td>\n",
       "      <td>3</td>\n",
       "      <td>1</td>\n",
       "      <td>2</td>\n",
       "      <td>57</td>\n",
       "      <td>1</td>\n",
       "      <td>1</td>\n",
       "    </tr>\n",
       "  </tbody>\n",
       "</table>\n",
       "<p>165474 rows × 12 columns</p>\n",
       "</div>"
      ],
      "text/plain": [
       "        month  day  order  country  session ID  page 1 (main category)  \\\n",
       "0           4    1      1       29           1                       1   \n",
       "1           4    1      2       29           1                       1   \n",
       "2           4    1      3       29           1                       2   \n",
       "3           4    1      4       29           1                       2   \n",
       "4           4    1      5       29           1                       2   \n",
       "...       ...  ...    ...      ...         ...                     ...   \n",
       "165469      8   13      1       29       24024                       2   \n",
       "165470      8   13      1        9       24025                       1   \n",
       "165471      8   13      1       34       24026                       1   \n",
       "165472      8   13      2       34       24026                       3   \n",
       "165473      8   13      3       34       24026                       2   \n",
       "\n",
       "        colour  location  model photography  price  price 2  page  \n",
       "0            1         5                  1     28        2     1  \n",
       "1            1         6                  1     33        2     1  \n",
       "2           10         2                  1     52        1     1  \n",
       "3            6         6                  2     38        2     1  \n",
       "4            4         3                  2     52        1     1  \n",
       "...        ...       ...                ...    ...      ...   ...  \n",
       "165469       2         4                  1     67        1     1  \n",
       "165470       3         4                  1     62        1     1  \n",
       "165471       3         1                  1     43        2     1  \n",
       "165472      12         1                  1     43        1     1  \n",
       "165473       3         1                  2     57        1     1  \n",
       "\n",
       "[165474 rows x 12 columns]"
      ]
     },
     "execution_count": 231,
     "metadata": {},
     "output_type": "execute_result"
    }
   ],
   "source": [
    "data = pd.read_csv(\"e-shop data and description/e-shop clothing 2008.csv\", delimiter=\";\")\n",
    "clothing_model = data[\"page 2 (clothing model)\"]\n",
    "clothing_model_list = clothing_model.values.tolist()\n",
    "clothing_signs = []\n",
    "clothing_signs_dict = {}\n",
    "for sign in clothing_model_list:\n",
    "    if sign not in clothing_signs:\n",
    "        clothing_signs.append(sign)\n",
    "for letter in ['P','C','B','A']:\n",
    "    clothing_signs.sort(key=lambda x: int(x[1:]) if x[0]==letter else 1000)\n",
    "i = 1\n",
    "for sign in clothing_signs:\n",
    "    clothing_signs_dict[sign] = i\n",
    "    i += 1\n",
    "# print('total amount of different clothing signs:',len(clothing_signs))\n",
    "# print(clothing_signs_dict)\n",
    "data = data.replace({'page 2 (clothing model)':clothing_signs_dict})\n",
    "data = data.drop(['year', 'page 2 (clothing model)'], axis=1)\n",
    "data"
   ]
  },
  {
   "cell_type": "markdown",
   "metadata": {},
   "source": [
    "## data normalization"
   ]
  },
  {
   "cell_type": "code",
   "execution_count": 232,
   "metadata": {},
   "outputs": [
    {
     "name": "stdout",
     "output_type": "stream",
     "text": [
      "month column mean value is: 1.070023469479941e-13\n",
      "day column mean value is: 3.9497263970964005e-15\n",
      "order column mean value is: -4.940267696348297e-15\n",
      "country column mean value is: 7.67555573766148e-15\n",
      "session ID column mean value is: -4.310364104593465e-14\n",
      "page 1 (main category) column mean value is: 2.827548316713672e-16\n",
      "colour column mean value is: -5.2480806093639846e-15\n",
      "location column mean value is: -3.5164966061067447e-15\n",
      "model photography column mean value is: 5.905206450482421e-15\n",
      "price column mean value is: 2.8704868164960917e-15\n",
      "price 2 column mean value is: 1.2170342704916164e-14\n",
      "page column mean value is: -2.4309092421336522e-14\n"
     ]
    }
   ],
   "source": [
    "scaler = StandardScaler()\n",
    "normalized_data = pd.DataFrame(data=scaler.fit_transform(data), columns=data.columns)\n",
    "for column in normalized_data.columns:\n",
    "    print(column, \"column mean value is:\", normalized_data[column].mean())"
   ]
  },
  {
   "cell_type": "markdown",
   "metadata": {},
   "source": [
    "# Dimension reduction"
   ]
  },
  {
   "cell_type": "markdown",
   "metadata": {},
   "source": [
    "## PCA"
   ]
  },
  {
   "cell_type": "code",
   "execution_count": 233,
   "metadata": {
    "scrolled": true
   },
   "outputs": [
    {
     "name": "stdout",
     "output_type": "stream",
     "text": [
      "[0.1731577  0.16582818]\n",
      "\n",
      " total variance: 33%\n"
     ]
    }
   ],
   "source": [
    "pca = PCA(n_components=2)\n",
    "principal_components = pca.fit_transform(normalized_data)\n",
    "data = pd.DataFrame(data=principal_components, columns = ['dim 1', 'dim 2'])\n",
    "data.plot.scatter('dim 1', 'dim 2', s=10)\n",
    "print(pca.explained_variance_ratio_)\n",
    "print(\"\\n total variance:\", str(int((sum(pca.explained_variance_ratio_)*100))) + \"%\")"
   ]
  },
  {
   "cell_type": "code",
   "execution_count": 234,
   "metadata": {},
   "outputs": [
    {
     "data": {
      "text/html": [
       "<div>\n",
       "<style scoped>\n",
       "    .dataframe tbody tr th:only-of-type {\n",
       "        vertical-align: middle;\n",
       "    }\n",
       "\n",
       "    .dataframe tbody tr th {\n",
       "        vertical-align: top;\n",
       "    }\n",
       "\n",
       "    .dataframe thead th {\n",
       "        text-align: right;\n",
       "    }\n",
       "</style>\n",
       "<table border=\"1\" class=\"dataframe\">\n",
       "  <thead>\n",
       "    <tr style=\"text-align: right;\">\n",
       "      <th></th>\n",
       "      <th>dim 1</th>\n",
       "      <th>dim 2</th>\n",
       "    </tr>\n",
       "  </thead>\n",
       "  <tbody>\n",
       "    <tr>\n",
       "      <th>0</th>\n",
       "      <td>-0.644907</td>\n",
       "      <td>-2.271486</td>\n",
       "    </tr>\n",
       "    <tr>\n",
       "      <th>1</th>\n",
       "      <td>-0.806228</td>\n",
       "      <td>-2.248928</td>\n",
       "    </tr>\n",
       "    <tr>\n",
       "      <th>2</th>\n",
       "      <td>-1.559609</td>\n",
       "      <td>-1.873883</td>\n",
       "    </tr>\n",
       "    <tr>\n",
       "      <th>3</th>\n",
       "      <td>0.453565</td>\n",
       "      <td>-2.369259</td>\n",
       "    </tr>\n",
       "    <tr>\n",
       "      <th>4</th>\n",
       "      <td>-1.033731</td>\n",
       "      <td>-1.891246</td>\n",
       "    </tr>\n",
       "    <tr>\n",
       "      <th>...</th>\n",
       "      <td>...</td>\n",
       "      <td>...</td>\n",
       "    </tr>\n",
       "    <tr>\n",
       "      <th>165469</th>\n",
       "      <td>-1.922648</td>\n",
       "      <td>2.864679</td>\n",
       "    </tr>\n",
       "    <tr>\n",
       "      <th>165470</th>\n",
       "      <td>-2.285834</td>\n",
       "      <td>2.586794</td>\n",
       "    </tr>\n",
       "    <tr>\n",
       "      <th>165471</th>\n",
       "      <td>-0.593539</td>\n",
       "      <td>2.547174</td>\n",
       "    </tr>\n",
       "    <tr>\n",
       "      <th>165472</th>\n",
       "      <td>0.004884</td>\n",
       "      <td>2.601500</td>\n",
       "    </tr>\n",
       "    <tr>\n",
       "      <th>165473</th>\n",
       "      <td>-0.669709</td>\n",
       "      <td>2.815025</td>\n",
       "    </tr>\n",
       "  </tbody>\n",
       "</table>\n",
       "<p>165474 rows × 2 columns</p>\n",
       "</div>"
      ],
      "text/plain": [
       "           dim 1     dim 2\n",
       "0      -0.644907 -2.271486\n",
       "1      -0.806228 -2.248928\n",
       "2      -1.559609 -1.873883\n",
       "3       0.453565 -2.369259\n",
       "4      -1.033731 -1.891246\n",
       "...          ...       ...\n",
       "165469 -1.922648  2.864679\n",
       "165470 -2.285834  2.586794\n",
       "165471 -0.593539  2.547174\n",
       "165472  0.004884  2.601500\n",
       "165473 -0.669709  2.815025\n",
       "\n",
       "[165474 rows x 2 columns]"
      ]
     },
     "execution_count": 234,
     "metadata": {},
     "output_type": "execute_result"
    }
   ],
   "source": [
    "data"
   ]
  },
  {
   "cell_type": "markdown",
   "metadata": {},
   "source": [
    "# Clustering methods"
   ]
  },
  {
   "cell_type": "markdown",
   "metadata": {},
   "source": [
    "## K-Means"
   ]
  },
  {
   "cell_type": "markdown",
   "metadata": {},
   "source": [
    "### performing k-means and computing wss and silhouette score\n",
    "WSS stands for Within-Cluster-Sum of Squared Errors"
   ]
  },
  {
   "cell_type": "code",
   "execution_count": 354,
   "metadata": {},
   "outputs": [
    {
     "name": "stdout",
     "output_type": "stream",
     "text": [
      "computing with k = 1 --> wss: 673120.2056813681\n",
      "computing with k = 2 --> wss: 421099.3943938402 silhouette: 0.37985061435615564\n",
      "computing with k = 3 --> wss: 272270.0629038268 silhouette: 0.38728721381712605\n",
      "computing with k = 4 --> wss: 198141.09482258247 silhouette: 0.37773779989067807\n",
      "computing with k = 5 --> wss: 166121.76665189117 silhouette: 0.3709950767220615\n",
      "computing with k = 6 --> wss: 138531.04058565563 silhouette: 0.37237416609200713\n",
      "computing with k = 7 --> wss: 115454.77114195618 silhouette: 0.3721312089874406\n",
      "computing with k = 8 --> wss: 100938.88547309872 silhouette: 0.3807548566296538\n",
      "computing with k = 9 --> wss: 88135.41300242335 silhouette: 0.38293652298971886\n",
      "computing with k = 10 --> wss: 77196.66270036924 silhouette: 0.38452780250025065\n",
      "computing with k = 11 --> wss: 69666.7332882685 silhouette: 0.38333656178745273\n",
      "computing with k = 12 --> wss: 64066.12997054764 silhouette: 0.38802074854507734\n",
      "computing with k = 13 --> wss: 58867.078867443845 silhouette: 0.3850195888043251\n",
      "computing with k = 14 --> wss: 54688.37819903666 silhouette: 0.3874533491969339\n",
      "computing with k = 15 --> wss: 51418.37823385343 silhouette: 0.3714438018493566\n",
      "computing with k = 16 --> wss: 48222.396973330884 silhouette: 0.3569971855125183\n",
      "computing with k = 17 --> wss: 45271.13923367647 silhouette: 0.36186570072824453\n",
      "computing with k = 18 --> wss: 43070.0580135343 silhouette: 0.3668153343770137\n",
      "computing with k = 19 --> wss: 40623.20584905499 silhouette: 0.37138552339175657\n",
      "computing with k = 20 --> wss: 38819.66612227131 silhouette: 0.3708824530191908\n"
     ]
    }
   ],
   "source": [
    "max_k = 20\n",
    "wss = []\n",
    "s = []\n",
    "for k in range(1, max_k + 1):\n",
    "    print(\"computing with k =\",k, end=' ')\n",
    "    kmeans = KMeans(n_clusters=k, algorithm='full').fit(data)\n",
    "    wss_k = kmeans.inertia_\n",
    "    wss.append((k, wss_k))\n",
    "    if k != 1:\n",
    "        s_k = silhouette_score(data, labels=kmeans.labels_, sample_size=3000, random_state=100)\n",
    "        s.append((k, s_k))\n",
    "        print(\"--> wss:\", wss_k, \"silhouette:\", s_k)\n",
    "    else:\n",
    "        print(\"--> wss:\", wss_k)"
   ]
  },
  {
   "cell_type": "markdown",
   "metadata": {},
   "source": [
    "#### WSS of k-clusters plot:"
   ]
  },
  {
   "cell_type": "code",
   "execution_count": 349,
   "metadata": {},
   "outputs": [],
   "source": [
    "lfs=10 #label font_size\n",
    "tfs=8 #tick font_size\n",
    "# %matplotlib inline\n",
    "%matplotlib qt5"
   ]
  },
  {
   "cell_type": "code",
   "execution_count": 352,
   "metadata": {},
   "outputs": [],
   "source": [
    "wss_df = pd.DataFrame(data=wss, columns=['k','wss'])\n",
    "wss_ax = wss_df.plot(x='k',y='wss')\n",
    "wss_ax.set_xlabel('k clusters', fontsize=lfs)\n",
    "wss_ax.set_ylabel('wss', fontsize=lfs)\n",
    "for tick in wss_ax.xaxis.get_major_ticks() + wss_ax.yaxis.get_major_ticks():\n",
    "    tick.label.set_fontsize(tfs) \n",
    "plt.show()"
   ]
  },
  {
   "cell_type": "markdown",
   "metadata": {},
   "source": [
    "#### Silhouette score of k-clusters plot:"
   ]
  },
  {
   "cell_type": "code",
   "execution_count": 353,
   "metadata": {},
   "outputs": [],
   "source": [
    "s_df = pd.DataFrame(data=s, columns=['k','s'])\n",
    "s_ax = s_df.plot(x='k',y='s')\n",
    "s_ax.set_xlabel('k clusters', fontsize=lfs)\n",
    "s_ax.set_ylabel('Silhouette score', fontsize=lfs)\n",
    "for tick in wss_ax.xaxis.get_major_ticks() + wss_ax.yaxis.get_major_ticks():\n",
    "    tick.label.set_fontsize(tfs) \n",
    "plt.show()"
   ]
  },
  {
   "cell_type": "markdown",
   "metadata": {},
   "source": [
    "### Plot of K-Means with optimum k\n",
    "We choose the optimum k by looking at the WSS and the Silhouette score graphs."
   ]
  },
  {
   "cell_type": "code",
   "execution_count": 374,
   "metadata": {},
   "outputs": [],
   "source": [
    "k=5\n",
    "kmeans = KMeans(n_clusters=k, algorithm='full')\n",
    "labels = kmeans.fit_predict(data)"
   ]
  },
  {
   "cell_type": "code",
   "execution_count": 377,
   "metadata": {},
   "outputs": [
    {
     "ename": "TypeError",
     "evalue": "list indices must be integers or slices, not tuple",
     "output_type": "error",
     "traceback": [
      "\u001b[1;31m---------------------------------------------------------------------------\u001b[0m",
      "\u001b[1;31mTypeError\u001b[0m                                 Traceback (most recent call last)",
      "\u001b[1;32m<ipython-input-377-c998ae171615>\u001b[0m in \u001b[0;36m<module>\u001b[1;34m\u001b[0m\n\u001b[1;32m----> 1\u001b[1;33m \u001b[0mdata\u001b[0m\u001b[1;33m.\u001b[0m\u001b[0mvalues\u001b[0m\u001b[1;33m.\u001b[0m\u001b[0mtolist\u001b[0m\u001b[1;33m(\u001b[0m\u001b[1;33m)\u001b[0m\u001b[1;33m[\u001b[0m\u001b[0mlabels\u001b[0m\u001b[1;33m==\u001b[0m\u001b[1;36m0\u001b[0m\u001b[1;33m,\u001b[0m \u001b[1;36m0\u001b[0m\u001b[1;33m]\u001b[0m\u001b[1;33m\u001b[0m\u001b[1;33m\u001b[0m\u001b[0m\n\u001b[0m",
      "\u001b[1;31mTypeError\u001b[0m: list indices must be integers or slices, not tuple"
     ]
    }
   ],
   "source": [
    "data.values.tolist()[labels==0, 0]"
   ]
  },
  {
   "cell_type": "code",
   "execution_count": null,
   "metadata": {},
   "outputs": [],
   "source": []
  },
  {
   "cell_type": "code",
   "execution_count": null,
   "metadata": {},
   "outputs": [],
   "source": []
  },
  {
   "cell_type": "code",
   "execution_count": null,
   "metadata": {},
   "outputs": [],
   "source": []
  }
 ],
 "metadata": {
  "kernelspec": {
   "display_name": "Python 3",
   "language": "python",
   "name": "python3"
  },
  "language_info": {
   "codemirror_mode": {
    "name": "ipython",
    "version": 3
   },
   "file_extension": ".py",
   "mimetype": "text/x-python",
   "name": "python",
   "nbconvert_exporter": "python",
   "pygments_lexer": "ipython3",
   "version": "3.7.6"
  }
 },
 "nbformat": 4,
 "nbformat_minor": 4
}
