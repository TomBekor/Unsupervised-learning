{
 "cells": [
  {
   "cell_type": "code",
   "execution_count": 3,
   "metadata": {},
   "outputs": [],
   "source": [
    "import pandas as pd\n",
    "from sklearn.decomposition import PCA\n",
    "from sklearn.cluster import KMeans\n",
    "from sklearn.metrics import silhouette_score\n",
    "from sklearn.mixture import GaussianMixture\n",
    "from sklearn.manifold import MDS\n",
    "from sklearn.preprocessing import StandardScaler\n",
    "import matplotlib.pyplot as plt"
   ]
  },
  {
   "cell_type": "code",
   "execution_count": 4,
   "metadata": {},
   "outputs": [],
   "source": [
    "# %matplotlib inline\n",
    "%matplotlib qt5\n",
    "plt.rcParams['figure.dpi'] = 120"
   ]
  },
  {
   "cell_type": "markdown",
   "metadata": {},
   "source": [
    "# Data preprocessing:"
   ]
  },
  {
   "cell_type": "code",
   "execution_count": 5,
   "metadata": {},
   "outputs": [],
   "source": [
    "def read_data():\n",
    "    data = pd.read_csv(\"e-shop data and description/e-shop clothing 2008.csv\", delimiter=\";\")\n",
    "    # clothing_model = data[\"page 2 (clothing model)\"]\n",
    "    # clothing_model_list = clothing_model.values.tolist()\n",
    "    # clothing_signs = []\n",
    "    # clothing_signs_dict = {}\n",
    "    # for sign in clothing_model_list:\n",
    "    #     if sign not in clothing_signs:\n",
    "    #         clothing_signs.append(sign)\n",
    "    # for letter in ['P','C','B','A']:\n",
    "    #     clothing_signs.sort(key=lambda x: int(x[1:]) if x[0]==letter else 1000)\n",
    "    # i = 1\n",
    "    # for sign in clothing_signs:\n",
    "    #     clothing_signs_dict[sign] = i\n",
    "    #     i += 1\n",
    "    ## print('total amount of different clothing signs:',len(clothing_signs))\n",
    "    ## print(clothing_signs_dict)\n",
    "    # data = data.replace({'page 2 (clothing model)':clothing_signs_dict})\n",
    "    data = data.drop(['year', 'page 2 (clothing model)'], axis=1)\n",
    "    return data"
   ]
  },
  {
   "cell_type": "markdown",
   "metadata": {},
   "source": [
    "## data normalization"
   ]
  },
  {
   "cell_type": "code",
   "execution_count": 6,
   "metadata": {},
   "outputs": [],
   "source": [
    "def normalized(data, verbose=True):\n",
    "    scaler = StandardScaler()\n",
    "    normalized_data = pd.DataFrame(data=scaler.fit_transform(data), columns=data.columns)\n",
    "    for column in normalized_data.columns:\n",
    "        if verbose:\n",
    "            print(column, \"column mean value is:\", normalized_data[column].mean())\n",
    "    print()\n",
    "    return normalized_data"
   ]
  },
  {
   "cell_type": "markdown",
   "metadata": {},
   "source": [
    "# Dimension reduction"
   ]
  },
  {
   "cell_type": "markdown",
   "metadata": {},
   "source": [
    "## PCA"
   ]
  },
  {
   "cell_type": "code",
   "execution_count": 7,
   "metadata": {
    "scrolled": true
   },
   "outputs": [],
   "source": [
    "def pca2components(data, verbose=True):\n",
    "    pca = PCA(n_components=2)\n",
    "    principal_components = pca.fit_transform(data)\n",
    "    data = pd.DataFrame(data=principal_components, columns = ['dim 1', 'dim 2'])\n",
    "    data.plot.scatter('dim 1', 'dim 2', s=10)\n",
    "    if verbose:\n",
    "        print(pca.explained_variance_ratio_)\n",
    "        print(\"\\n total variance:\", str(int((sum(pca.explained_variance_ratio_)*100))) + \"%\", \"\\n\")\n",
    "    return data"
   ]
  },
  {
   "cell_type": "markdown",
   "metadata": {},
   "source": [
    "# Clustering methods"
   ]
  },
  {
   "cell_type": "markdown",
   "metadata": {},
   "source": [
    "## K-Means"
   ]
  },
  {
   "cell_type": "markdown",
   "metadata": {},
   "source": [
    "### performing k-means and computing wss and silhouette score\n",
    "WSS stands for Within-Cluster-Sum of Squared Errors"
   ]
  },
  {
   "cell_type": "code",
   "execution_count": 8,
   "metadata": {},
   "outputs": [],
   "source": [
    "def k_means_optimization(data, max_k, verbose=True):\n",
    "    wss = []\n",
    "    s = []\n",
    "    for k in range(1, max_k + 1):\n",
    "        if verbose:\n",
    "            print(\"computing with k =\",k, end=' ')\n",
    "        kmeans = KMeans(n_clusters=k, algorithm='full').fit(data)\n",
    "        wss_k = kmeans.inertia_\n",
    "        wss.append((k, wss_k))\n",
    "        if k != 1:\n",
    "            s_k = silhouette_score(data, labels=kmeans.labels_, sample_size=3000, random_state=100)\n",
    "            s.append((k, s_k))\n",
    "            if verbose:\n",
    "                print(\"--> wss:\", wss_k, \"silhouette:\", s_k)\n",
    "        else:\n",
    "            if verbose:\n",
    "                print(\"--> wss:\", wss_k)\n",
    "    print('done')\n",
    "    return (wss, s)"
   ]
  },
  {
   "cell_type": "markdown",
   "metadata": {},
   "source": [
    "#### plot K-Means optimization:"
   ]
  },
  {
   "cell_type": "code",
   "execution_count": 9,
   "metadata": {},
   "outputs": [],
   "source": [
    "def plot_k_means_optimization(test_name: str, test_df, max_k: int, lfs=10, tfs=8):\n",
    "    test_df = pd.DataFrame(data=test_df, columns=['k',test_name])\n",
    "    test_ax = test_df.plot(x='k',y=test_name)\n",
    "    test_ax.set_xlabel('k clusters', fontsize=lfs)\n",
    "    test_ax.set_ylabel(test_name.replace('_', ' '), fontsize=lfs)\n",
    "    test_ax.set_xticks(range(2, max_k, 2))\n",
    "    for tick in test_ax.xaxis.get_major_ticks() + test_ax.yaxis.get_major_ticks():\n",
    "        tick.label.set_fontsize(tfs) \n",
    "    plt.show()"
   ]
  },
  {
   "cell_type": "markdown",
   "metadata": {},
   "source": [
    "#### WSS of k-clusters plot:"
   ]
  },
  {
   "cell_type": "code",
   "execution_count": 535,
   "metadata": {},
   "outputs": [],
   "source": [
    "lfs=10 #label font_size\n",
    "tfs=8 #tick font_size\n",
    "# %matplotlib inline\n",
    "%matplotlib qt5"
   ]
  },
  {
   "cell_type": "code",
   "execution_count": 536,
   "metadata": {},
   "outputs": [],
   "source": [
    "# wss_df = pd.DataFrame(data=wss, columns=['k','wss'])\n",
    "# wss_ax = wss_df.plot(x='k',y='wss')\n",
    "# wss_ax.set_xlabel('k clusters', fontsize=lfs)\n",
    "# wss_ax.set_ylabel('wss', fontsize=lfs)\n",
    "# wss_ax.set_xticks(range(2, max_k, 2))\n",
    "# for tick in wss_ax.xaxis.get_major_ticks() + wss_ax.yaxis.get_major_ticks():\n",
    "#     tick.label.set_fontsize(tfs) \n",
    "# plt.show()"
   ]
  },
  {
   "cell_type": "markdown",
   "metadata": {},
   "source": [
    "#### Silhouette score of k-clusters plot:"
   ]
  },
  {
   "cell_type": "code",
   "execution_count": 537,
   "metadata": {},
   "outputs": [],
   "source": [
    "# s_df = pd.DataFrame(data=s, columns=['k','s'])\n",
    "# s_ax = s_df.plot(x='k',y='s')\n",
    "# s_ax.set_xlabel('k clusters', fontsize=lfs)\n",
    "# s_ax.set_ylabel('Silhouette score', fontsize=lfs)\n",
    "# s_ax.set_xticks(range(0, max_k, 2))\n",
    "# for tick in wss_ax.xaxis.get_major_ticks() + wss_ax.yaxis.get_major_ticks():\n",
    "#     tick.label.set_fontsize(tfs) \n",
    "# plt.show()"
   ]
  },
  {
   "cell_type": "markdown",
   "metadata": {},
   "source": [
    "### color function"
   ]
  },
  {
   "cell_type": "code",
   "execution_count": 601,
   "metadata": {},
   "outputs": [],
   "source": [
    "def cluster_color(label):\n",
    "    colors = ['b', 'g', 'r', 'c', 'm', '#fdff03', '#055803', '#a6fc00', '#9d70d1', '#ff703b', '#3a70d8', '#ff70b5']\n",
    "    return colors[label % len(colors)]"
   ]
  },
  {
   "cell_type": "markdown",
   "metadata": {},
   "source": [
    "### plot clusters:"
   ]
  },
  {
   "cell_type": "code",
   "execution_count": 624,
   "metadata": {},
   "outputs": [],
   "source": [
    "def plot_clusters(data, labels, n_clusters, lfs=10, tfs=8):\n",
    "    for label in range(n_clusters):\n",
    "        plt.scatter(data.values[labels==label, 0], data.values[labels==label, 1], s=40, c=cluster_color(label))\n",
    "    clusters_ax = plt.gca()\n",
    "    clusters_ax.set_xlabel('dim1', fontsize=lfs)\n",
    "    clusters_ax.set_ylabel('dim2', fontsize=lfs)\n",
    "    plt.show()"
   ]
  },
  {
   "cell_type": "markdown",
   "metadata": {},
   "source": [
    "### K-Means\n",
    "We choose the optimum k by looking at the WSS and the Silhouette score graphs."
   ]
  },
  {
   "cell_type": "code",
   "execution_count": 540,
   "metadata": {},
   "outputs": [],
   "source": [
    "def k_means(k: int):\n",
    "    kmeans = KMeans(n_clusters=k, algorithm='full')\n",
    "    labels = kmeans.fit_predict(data)\n",
    "    return labels"
   ]
  },
  {
   "cell_type": "code",
   "execution_count": 541,
   "metadata": {},
   "outputs": [],
   "source": [
    "# for label in range(optimum_k):\n",
    "#     plt.scatter(data.values[labels==label, 0], data.values[labels==label, 1], s=40, c=cluster_color(label))\n",
    "# clusters_ax = plt.gca()\n",
    "# clusters_ax.set_xlabel('dim1', fontsize=lfs)\n",
    "# clusters_ax.set_ylabel('dim2', fontsize=lfs)\n",
    "# plt.show()"
   ]
  },
  {
   "cell_type": "markdown",
   "metadata": {},
   "source": [
    "## GMM"
   ]
  },
  {
   "cell_type": "code",
   "execution_count": 542,
   "metadata": {},
   "outputs": [],
   "source": [
    "def gmm(n_clusters: int):\n",
    "    gmm = GaussianMixture(n_components=n_clusters, covariance_type='full', init_params='kmeans'\n",
    "                          , warm_start=True, n_init=3, random_state=100, verbose=2)\n",
    "    gmm.fit(data)\n",
    "    labels = gmm.predict(data)\n",
    "    return labels"
   ]
  },
  {
   "cell_type": "code",
   "execution_count": 543,
   "metadata": {},
   "outputs": [],
   "source": [
    "# for label in range(gmm_k):\n",
    "#     plt.scatter(data.values[labels==label, 0], data.values[labels==label, 1], s=40, c=cluster_color(label))\n",
    "# clusters_ax = plt.gca()\n",
    "# clusters_ax.set_xlabel('dim1', fontsize=lfs)\n",
    "# clusters_ax.set_ylabel('dim2', fontsize=lfs)\n",
    "# plt.show()"
   ]
  },
  {
   "cell_type": "markdown",
   "metadata": {},
   "source": [
    "# Main:"
   ]
  },
  {
   "cell_type": "markdown",
   "metadata": {},
   "source": [
    "### preprocess:"
   ]
  },
  {
   "cell_type": "code",
   "execution_count": 10,
   "metadata": {},
   "outputs": [],
   "source": [
    "verbose = False"
   ]
  },
  {
   "cell_type": "code",
   "execution_count": 11,
   "metadata": {
    "scrolled": true
   },
   "outputs": [
    {
     "name": "stdout",
     "output_type": "stream",
     "text": [
      "\n"
     ]
    }
   ],
   "source": [
    "data = read_data()\n",
    "data = normalized(data, verbose=verbose)"
   ]
  },
  {
   "cell_type": "markdown",
   "metadata": {},
   "source": [
    "### dimension reduction:"
   ]
  },
  {
   "cell_type": "code",
   "execution_count": 12,
   "metadata": {},
   "outputs": [],
   "source": [
    "data = pca2components(data, verbose=verbose)"
   ]
  },
  {
   "cell_type": "markdown",
   "metadata": {},
   "source": [
    "### K-Means"
   ]
  },
  {
   "cell_type": "code",
   "execution_count": 631,
   "metadata": {
    "scrolled": true
   },
   "outputs": [
    {
     "name": "stdout",
     "output_type": "stream",
     "text": [
      "done\n"
     ]
    }
   ],
   "source": [
    "max_k = 20\n",
    "wss, s = k_means_optimization(data, max_k, verbose=verbose)"
   ]
  },
  {
   "cell_type": "code",
   "execution_count": 632,
   "metadata": {},
   "outputs": [],
   "source": [
    "plot_k_means_optimization(test_name='wss_error', test_df=wss, max_k=max_k)"
   ]
  },
  {
   "cell_type": "code",
   "execution_count": 633,
   "metadata": {},
   "outputs": [],
   "source": [
    "plot_k_means_optimization(test_name='silhouette', test_df=s, max_k=max_k)"
   ]
  },
  {
   "cell_type": "code",
   "execution_count": 637,
   "metadata": {},
   "outputs": [],
   "source": [
    "km_clusters = 8"
   ]
  },
  {
   "cell_type": "code",
   "execution_count": 638,
   "metadata": {},
   "outputs": [],
   "source": [
    "k_means_labels = k_means(k=km_clusters)"
   ]
  },
  {
   "cell_type": "markdown",
   "metadata": {},
   "source": [
    "### GMM"
   ]
  },
  {
   "cell_type": "code",
   "execution_count": 639,
   "metadata": {},
   "outputs": [
    {
     "name": "stdout",
     "output_type": "stream",
     "text": [
      "Initialization 0\n",
      "Initialization converged: True\t time lapse 6.47335s\t ll -3.37332\n",
      "Initialization 1\n",
      "  Iteration 10\t time lapse 6.98993s\t ll change 0.00102\n",
      "Initialization converged: True\t time lapse 7.52894s\t ll -3.37711\n",
      "Initialization 2\n",
      "  Iteration 10\t time lapse 7.02007s\t ll change 0.00103\n",
      "Initialization converged: True\t time lapse 7.58760s\t ll -3.38396\n"
     ]
    }
   ],
   "source": [
    "gmm_clusters = 8\n",
    "gmm_labels = gmm(gmm_clusters)"
   ]
  },
  {
   "cell_type": "markdown",
   "metadata": {},
   "source": [
    "### plot clusters"
   ]
  },
  {
   "cell_type": "code",
   "execution_count": 1,
   "metadata": {},
   "outputs": [
    {
     "ename": "NameError",
     "evalue": "name 'plot_clusters' is not defined",
     "output_type": "error",
     "traceback": [
      "\u001b[1;31m---------------------------------------------------------------------------\u001b[0m",
      "\u001b[1;31mNameError\u001b[0m                                 Traceback (most recent call last)",
      "\u001b[1;32m<ipython-input-1-6332f7bbff1e>\u001b[0m in \u001b[0;36m<module>\u001b[1;34m\u001b[0m\n\u001b[1;32m----> 1\u001b[1;33m \u001b[0mplot_clusters\u001b[0m\u001b[1;33m(\u001b[0m\u001b[0mdata\u001b[0m\u001b[1;33m,\u001b[0m \u001b[0mk_means_labels\u001b[0m\u001b[1;33m,\u001b[0m \u001b[0mn_clusters\u001b[0m\u001b[1;33m=\u001b[0m\u001b[0mkm_clusters\u001b[0m\u001b[1;33m)\u001b[0m\u001b[1;33m\u001b[0m\u001b[1;33m\u001b[0m\u001b[0m\n\u001b[0m",
      "\u001b[1;31mNameError\u001b[0m: name 'plot_clusters' is not defined"
     ]
    }
   ],
   "source": [
    "plot_clusters(data, k_means_labels, n_clusters=km_clusters)"
   ]
  },
  {
   "cell_type": "code",
   "execution_count": 644,
   "metadata": {},
   "outputs": [],
   "source": [
    "plot_clusters(data, gmm_labels, n_clusters=gmm_clusters)"
   ]
  }
 ],
 "metadata": {
  "kernelspec": {
   "display_name": "Python 3",
   "language": "python",
   "name": "python3"
  },
  "language_info": {
   "codemirror_mode": {
    "name": "ipython",
    "version": 3
   },
   "file_extension": ".py",
   "mimetype": "text/x-python",
   "name": "python",
   "nbconvert_exporter": "python",
   "pygments_lexer": "ipython3",
   "version": "3.7.6"
  }
 },
 "nbformat": 4,
 "nbformat_minor": 4
}
