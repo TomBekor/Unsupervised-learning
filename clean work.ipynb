{
 "cells": [
  {
   "cell_type": "code",
   "execution_count": 104,
   "metadata": {},
   "outputs": [],
   "source": [
    "import pandas as pd\n",
    "import numpy as np\n",
    "import matplotlib.pyplot as plt\n",
    "from sklearn.preprocessing import StandardScaler\n",
    "from sklearn.decomposition import PCA\n",
    "from sklearn.decomposition import FastICA\n",
    "from sklearn.manifold import MDS\n",
    "from sklearn.cluster import KMeans\n",
    "from sklearn.cluster import AgglomerativeClustering\n",
    "from sklearn.mixture import GaussianMixture\n",
    "from sklearn.metrics import silhouette_score\n",
    "import skfuzzy as fuzz"
   ]
  },
  {
   "cell_type": "markdown",
   "metadata": {},
   "source": [
    "# Preprocess:\n",
    "read csv and normalization"
   ]
  },
  {
   "cell_type": "code",
   "execution_count": 99,
   "metadata": {},
   "outputs": [],
   "source": [
    "data = pd.read_csv(\"e-shop data and description/e-shop clothing 2008.csv\", delimiter=\";\")\n",
    "data = data.drop(['year', 'page 2 (clothing model)'], axis=1)\n",
    "scaler = StandardScaler()\n",
    "data = pd.DataFrame(data=scaler.fit_transform(data), columns=[data.columns])"
   ]
  },
  {
   "cell_type": "markdown",
   "metadata": {},
   "source": [
    "# Dimension Reduction:"
   ]
  },
  {
   "cell_type": "code",
   "execution_count": 100,
   "metadata": {},
   "outputs": [
    {
     "name": "stdout",
     "output_type": "stream",
     "text": [
      "[0.1731577  0.16582818]\n",
      "\n",
      " total variance: 33% \n",
      "\n"
     ]
    }
   ],
   "source": [
    "pca = PCA(n_components=2)\n",
    "principal_components = pca.fit_transform(data)\n",
    "print(pca.explained_variance_ratio_)\n",
    "print(\"\\n total variance:\", str(int((sum(pca.explained_variance_ratio_)*100))) + \"%\", \"\\n\")\n",
    "pca_data = pd.DataFrame(data=principal_components, columns = ['dim 1', 'dim 2'])"
   ]
  },
  {
   "cell_type": "markdown",
   "metadata": {},
   "source": [
    "# Clustering:"
   ]
  },
  {
   "cell_type": "markdown",
   "metadata": {},
   "source": [
    "### k means"
   ]
  },
  {
   "cell_type": "code",
   "execution_count": 97,
   "metadata": {},
   "outputs": [],
   "source": [
    "kmeans_n_clusters = 3\n",
    "kmeans = KMeans(n_clusters=km_n_clusters, algorithm='full')\n",
    "kmeans_labels = kmeans.fit_predict(data)"
   ]
  },
  {
   "cell_type": "markdown",
   "metadata": {},
   "source": [
    "### gmm"
   ]
  },
  {
   "cell_type": "code",
   "execution_count": null,
   "metadata": {},
   "outputs": [],
   "source": [
    "gmm_n_clusters = 6\n",
    "gmm = GaussianMixture(n_components=gmm_n_clusters, covariance_type='full', init_params='kmeans'\n",
    "                          , warm_start=False, n_init=5, random_state=100, verbose=2)\n",
    "gmm.fit(data)\n",
    "gmm_labels = gmm.predict(data)"
   ]
  },
  {
   "cell_type": "markdown",
   "metadata": {},
   "source": [
    "### fuzzy c means"
   ]
  },
  {
   "cell_type": "code",
   "execution_count": 101,
   "metadata": {},
   "outputs": [],
   "source": [
    "fuzzy_n_clusters = 6\n",
    "cntr, u, u0, d, jm, p, fpc = fuzz.cluster.cmeans(data.T.values, fuzzy_n_clusters, 2, error=0.005, maxiter=1000)\n",
    "fuzzy_labels = np.argmax(u, axis=0)"
   ]
  },
  {
   "cell_type": "markdown",
   "metadata": {},
   "source": [
    "### Hierarchical - agglomerative"
   ]
  },
  {
   "cell_type": "code",
   "execution_count": null,
   "metadata": {},
   "outputs": [],
   "source": [
    "hierarchical_labels = {}\n",
    "hierarchical_points = 100000\n",
    "hierarchical_n_clusters = 6\n",
    "for linkage in ('ward', 'average', 'complete', 'single'):\n",
    "    hierarchical = AgglomerativeClustering(n_clusters=hierarchical_n_clusters, linkage=linkage)\n",
    "    hierarchical.fit(data.sample(n=hierarchical_points, random_state=100))\n",
    "    hierarchical_labels[linkage] = hierarchical.labels_\n",
    "    print('done with ' + linkage + 'linkage')"
   ]
  },
  {
   "cell_type": "markdown",
   "metadata": {},
   "source": [
    "### plot clusters:"
   ]
  },
  {
   "cell_type": "code",
   "execution_count": 85,
   "metadata": {},
   "outputs": [],
   "source": [
    "%matplotlib qt5"
   ]
  },
  {
   "cell_type": "code",
   "execution_count": 82,
   "metadata": {},
   "outputs": [],
   "source": [
    "def cluster_color(label):\n",
    "    colors = ['b', 'g', 'r', 'c', 'm', '#fdff03', '#055803', '#a6fc00', '#9d70d1', '#ff703b', '#3a70d8', '#ff70b5']\n",
    "    return colors[label % len(colors)]"
   ]
  },
  {
   "cell_type": "code",
   "execution_count": 83,
   "metadata": {},
   "outputs": [],
   "source": [
    "def plot_clusters(data, labels, n_clusters, lfs=10, tfs=8):\n",
    "    for label in range(n_clusters):\n",
    "        plt.scatter(data.values[labels==label, 0], data.values[labels==label, 1], s=40, c=cluster_color(label))\n",
    "    clusters_ax = plt.gca()\n",
    "    clusters_ax.set_xlabel('dim1', fontsize=lfs)\n",
    "    clusters_ax.set_ylabel('dim2', fontsize=lfs)\n",
    "    plt.show()"
   ]
  },
  {
   "cell_type": "code",
   "execution_count": 103,
   "metadata": {},
   "outputs": [],
   "source": [
    "plot_clusters(pca_data, kmeans_labels, kmeans_n_clusters)"
   ]
  },
  {
   "cell_type": "code",
   "execution_count": 95,
   "metadata": {},
   "outputs": [],
   "source": [
    "plot_clusters(pca_data, fuzzy_labels, fuzzy_n_clusters)"
   ]
  },
  {
   "cell_type": "code",
   "execution_count": 115,
   "metadata": {},
   "outputs": [],
   "source": [
    "plot_clusters(pca_data.sample(n=hierarchical_points, random_state=100), hierarchical_labels['ward'], hierarchical_n_clusters)"
   ]
  }
 ],
 "metadata": {
  "kernelspec": {
   "display_name": "Python 3",
   "language": "python",
   "name": "python3"
  },
  "language_info": {
   "codemirror_mode": {
    "name": "ipython",
    "version": 3
   },
   "file_extension": ".py",
   "mimetype": "text/x-python",
   "name": "python",
   "nbconvert_exporter": "python",
   "pygments_lexer": "ipython3",
   "version": "3.7.6"
  }
 },
 "nbformat": 4,
 "nbformat_minor": 4
}
